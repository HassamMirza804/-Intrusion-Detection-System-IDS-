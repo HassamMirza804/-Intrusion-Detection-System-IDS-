{
 "cells": [
  {
   "cell_type": "code",
   "execution_count": 1,
   "id": "7387e20c",
   "metadata": {
    "_cell_guid": "b1076dfc-b9ad-4769-8c92-a6c4dae69d19",
    "_uuid": "8f2839f25d086af736a60e9eeb907d3b93b6e0e5",
    "execution": {
     "iopub.execute_input": "2025-08-12T16:36:57.849140Z",
     "iopub.status.busy": "2025-08-12T16:36:57.848916Z",
     "iopub.status.idle": "2025-08-12T16:37:03.204279Z",
     "shell.execute_reply": "2025-08-12T16:37:03.203249Z"
    },
    "papermill": {
     "duration": 5.360113,
     "end_time": "2025-08-12T16:37:03.205597",
     "exception": false,
     "start_time": "2025-08-12T16:36:57.845484",
     "status": "completed"
    },
    "tags": []
   },
   "outputs": [
    {
     "name": "stdout",
     "output_type": "stream",
     "text": [
      "Requirement already satisfied: pandas in /usr/local/lib/python3.11/dist-packages (2.2.3)\r\n",
      "Requirement already satisfied: scikit-learn in /usr/local/lib/python3.11/dist-packages (1.2.2)\r\n",
      "Requirement already satisfied: numpy in /usr/local/lib/python3.11/dist-packages (1.26.4)\r\n",
      "Requirement already satisfied: python-dateutil>=2.8.2 in /usr/local/lib/python3.11/dist-packages (from pandas) (2.9.0.post0)\r\n",
      "Requirement already satisfied: pytz>=2020.1 in /usr/local/lib/python3.11/dist-packages (from pandas) (2025.2)\r\n",
      "Requirement already satisfied: tzdata>=2022.7 in /usr/local/lib/python3.11/dist-packages (from pandas) (2025.2)\r\n",
      "Requirement already satisfied: scipy>=1.3.2 in /usr/local/lib/python3.11/dist-packages (from scikit-learn) (1.15.3)\r\n",
      "Requirement already satisfied: joblib>=1.1.1 in /usr/local/lib/python3.11/dist-packages (from scikit-learn) (1.5.1)\r\n",
      "Requirement already satisfied: threadpoolctl>=2.0.0 in /usr/local/lib/python3.11/dist-packages (from scikit-learn) (3.6.0)\r\n",
      "Requirement already satisfied: mkl_fft in /usr/local/lib/python3.11/dist-packages (from numpy) (1.3.8)\r\n",
      "Requirement already satisfied: mkl_random in /usr/local/lib/python3.11/dist-packages (from numpy) (1.2.4)\r\n",
      "Requirement already satisfied: mkl_umath in /usr/local/lib/python3.11/dist-packages (from numpy) (0.1.1)\r\n",
      "Requirement already satisfied: mkl in /usr/local/lib/python3.11/dist-packages (from numpy) (2025.2.0)\r\n",
      "Requirement already satisfied: tbb4py in /usr/local/lib/python3.11/dist-packages (from numpy) (2022.2.0)\r\n",
      "Requirement already satisfied: mkl-service in /usr/local/lib/python3.11/dist-packages (from numpy) (2.4.1)\r\n",
      "Requirement already satisfied: six>=1.5 in /usr/local/lib/python3.11/dist-packages (from python-dateutil>=2.8.2->pandas) (1.17.0)\r\n",
      "Requirement already satisfied: intel-openmp<2026,>=2024 in /usr/local/lib/python3.11/dist-packages (from mkl->numpy) (2024.2.0)\r\n",
      "Requirement already satisfied: tbb==2022.* in /usr/local/lib/python3.11/dist-packages (from mkl->numpy) (2022.2.0)\r\n",
      "Requirement already satisfied: tcmlib==1.* in /usr/local/lib/python3.11/dist-packages (from tbb==2022.*->mkl->numpy) (1.4.0)\r\n",
      "Requirement already satisfied: intel-cmplr-lib-rt in /usr/local/lib/python3.11/dist-packages (from mkl_umath->numpy) (2024.2.0)\r\n",
      "Requirement already satisfied: intel-cmplr-lib-ur==2024.2.0 in /usr/local/lib/python3.11/dist-packages (from intel-openmp<2026,>=2024->mkl->numpy) (2024.2.0)\r\n",
      "Note: you may need to restart the kernel to use updated packages.\n"
     ]
    }
   ],
   "source": [
    "pip install pandas scikit-learn numpy"
   ]
  },
  {
   "cell_type": "code",
   "execution_count": 2,
   "id": "f9924384",
   "metadata": {
    "execution": {
     "iopub.execute_input": "2025-08-12T16:37:03.211444Z",
     "iopub.status.busy": "2025-08-12T16:37:03.211188Z",
     "iopub.status.idle": "2025-08-12T16:37:34.920970Z",
     "shell.execute_reply": "2025-08-12T16:37:34.920126Z"
    },
    "papermill": {
     "duration": 31.715464,
     "end_time": "2025-08-12T16:37:34.923784",
     "exception": false,
     "start_time": "2025-08-12T16:37:03.208320",
     "status": "completed"
    },
    "tags": []
   },
   "outputs": [
    {
     "name": "stdout",
     "output_type": "stream",
     "text": [
      "Dataset loaded successfully!\n",
      "Initial Data:\n",
      "   Destination Port   Flow Duration   Total Fwd Packets  \\\n",
      "0             54865             3.0                 2.0   \n",
      "1             55054           109.0                 1.0   \n",
      "2             55055            52.0                 1.0   \n",
      "3             46236            34.0                 1.0   \n",
      "4             54863             3.0                 2.0   \n",
      "\n",
      "    Total Backward Packets  Total Length of Fwd Packets  \\\n",
      "0                      0.0                         12.0   \n",
      "1                      1.0                          6.0   \n",
      "2                      1.0                          6.0   \n",
      "3                      1.0                          6.0   \n",
      "4                      0.0                         12.0   \n",
      "\n",
      "    Total Length of Bwd Packets   Fwd Packet Length Max  \\\n",
      "0                           0.0                     6.0   \n",
      "1                           6.0                     6.0   \n",
      "2                           6.0                     6.0   \n",
      "3                           6.0                     6.0   \n",
      "4                           0.0                     6.0   \n",
      "\n",
      "    Fwd Packet Length Min   Fwd Packet Length Mean   Fwd Packet Length Std  \\\n",
      "0                     6.0                      6.0                     0.0   \n",
      "1                     6.0                      6.0                     0.0   \n",
      "2                     6.0                      6.0                     0.0   \n",
      "3                     6.0                      6.0                     0.0   \n",
      "4                     6.0                      6.0                     0.0   \n",
      "\n",
      "   ...   min_seg_size_forward  Active Mean   Active Std   Active Max  \\\n",
      "0  ...                   20.0          0.0          0.0          0.0   \n",
      "1  ...                   20.0          0.0          0.0          0.0   \n",
      "2  ...                   20.0          0.0          0.0          0.0   \n",
      "3  ...                   20.0          0.0          0.0          0.0   \n",
      "4  ...                   20.0          0.0          0.0          0.0   \n",
      "\n",
      "    Active Min  Idle Mean   Idle Std   Idle Max   Idle Min   Label  \n",
      "0          0.0        0.0        0.0        0.0        0.0  BENIGN  \n",
      "1          0.0        0.0        0.0        0.0        0.0  BENIGN  \n",
      "2          0.0        0.0        0.0        0.0        0.0  BENIGN  \n",
      "3          0.0        0.0        0.0        0.0        0.0  BENIGN  \n",
      "4          0.0        0.0        0.0        0.0        0.0  BENIGN  \n",
      "\n",
      "[5 rows x 79 columns]\n"
     ]
    }
   ],
   "source": [
    "import pandas as pd\n",
    "import numpy as np\n",
    "\n",
    "# Load the dataset with low_memory=False to handle potential mixed data types\n",
    "df = pd.read_csv('/kaggle/input/icd-dataset/combine.csv', low_memory=False)\n",
    "\n",
    "print(\"Dataset loaded successfully!\")\n",
    "print(\"Initial Data:\")\n",
    "print(df.head())"
   ]
  },
  {
   "cell_type": "code",
   "execution_count": 3,
   "id": "3bfd6960",
   "metadata": {
    "execution": {
     "iopub.execute_input": "2025-08-12T16:37:34.929188Z",
     "iopub.status.busy": "2025-08-12T16:37:34.928956Z",
     "iopub.status.idle": "2025-08-12T16:37:38.573146Z",
     "shell.execute_reply": "2025-08-12T16:37:38.572378Z"
    },
    "papermill": {
     "duration": 3.648293,
     "end_time": "2025-08-12T16:37:38.574452",
     "exception": false,
     "start_time": "2025-08-12T16:37:34.926159",
     "status": "completed"
    },
    "tags": []
   },
   "outputs": [
    {
     "name": "stdout",
     "output_type": "stream",
     "text": [
      "\n",
      "Cleaned Data Labels:\n",
      "Label\n",
      "0    1672649\n",
      "1     540682\n",
      "Name: count, dtype: int64\n"
     ]
    }
   ],
   "source": [
    "import pandas as pd\n",
    "import numpy as np\n",
    "\n",
    "# Assuming 'df' is your loaded DataFrame\n",
    "# Drop any rows with missing values (NaN)\n",
    "df.dropna(inplace=True)\n",
    "\n",
    "# Replace infinite values with 0\n",
    "df.replace([np.inf, -np.inf], 0, inplace=True)\n",
    "\n",
    "# Rename the ' Label' column for easier access\n",
    "df.rename(columns={' Label': 'Label'}, inplace=True)\n",
    "\n",
    "# Convert the label to a numerical format: 1 for attack, 0 for benign\n",
    "df['Label'] = df['Label'].apply(lambda x: 1 if x != 'BENIGN' else 0)\n",
    "\n",
    "print(\"\\nCleaned Data Labels:\")\n",
    "print(df['Label'].value_counts())"
   ]
  },
  {
   "cell_type": "code",
   "execution_count": 4,
   "id": "88256751",
   "metadata": {
    "execution": {
     "iopub.execute_input": "2025-08-12T16:37:38.580249Z",
     "iopub.status.busy": "2025-08-12T16:37:38.579671Z",
     "iopub.status.idle": "2025-08-12T16:43:04.114645Z",
     "shell.execute_reply": "2025-08-12T16:43:04.113431Z"
    },
    "papermill": {
     "duration": 325.540937,
     "end_time": "2025-08-12T16:43:04.117726",
     "exception": false,
     "start_time": "2025-08-12T16:37:38.576789",
     "status": "completed"
    },
    "tags": []
   },
   "outputs": [
    {
     "name": "stdout",
     "output_type": "stream",
     "text": [
      "\n",
      "Random Forest model trained successfully!\n"
     ]
    }
   ],
   "source": [
    "import pandas as pd\n",
    "import numpy as np\n",
    "from sklearn.model_selection import train_test_split\n",
    "from sklearn.preprocessing import StandardScaler\n",
    "from sklearn.ensemble import RandomForestClassifier\n",
    "\n",
    "# Assuming 'df' is your DataFrame from the previous step\n",
    "# Drop non-numerical and irrelevant columns for the model\n",
    "features = df.drop(columns=['Flow ID', ' Source IP', ' Destination IP', ' Timestamp', 'Label'], errors='ignore')\n",
    "labels = df['Label']\n",
    "\n",
    "# Scale the features\n",
    "scaler = StandardScaler()\n",
    "scaled_features = scaler.fit_transform(features)\n",
    "\n",
    "# Split the data into 80% for training and 20% for testing\n",
    "X_train, X_test, y_train, y_test = train_test_split(scaled_features, labels, test_size=0.2, random_state=42)\n",
    "\n",
    "# Create and train the Random Forest model\n",
    "model = RandomForestClassifier(n_estimators=100, random_state=42, n_jobs=-1)\n",
    "model.fit(X_train, y_train)\n",
    "\n",
    "print(\"\\nRandom Forest model trained successfully!\")"
   ]
  },
  {
   "cell_type": "code",
   "execution_count": 5,
   "id": "e9992b06",
   "metadata": {
    "execution": {
     "iopub.execute_input": "2025-08-12T16:43:04.126741Z",
     "iopub.status.busy": "2025-08-12T16:43:04.126242Z",
     "iopub.status.idle": "2025-08-12T16:43:06.790971Z",
     "shell.execute_reply": "2025-08-12T16:43:06.790179Z"
    },
    "papermill": {
     "duration": 2.671468,
     "end_time": "2025-08-12T16:43:06.792184",
     "exception": false,
     "start_time": "2025-08-12T16:43:04.120716",
     "status": "completed"
    },
    "tags": []
   },
   "outputs": [
    {
     "name": "stdout",
     "output_type": "stream",
     "text": [
      "\n",
      "Model Evaluation:\n",
      "Accuracy: 0.9990\n",
      "Precision: 0.9975\n",
      "Recall: 0.9982\n",
      "F1-Score: 0.9979\n"
     ]
    }
   ],
   "source": [
    "from sklearn.metrics import accuracy_score, precision_score, recall_score, f1_score\n",
    "\n",
    "# Use the trained model to predict on the test data\n",
    "predictions = model.predict(X_test)\n",
    "\n",
    "# Calculate key performance metrics\n",
    "accuracy = accuracy_score(y_test, predictions)\n",
    "precision = precision_score(y_test, predictions)\n",
    "recall = recall_score(y_test, predictions)\n",
    "f1 = f1_score(y_test, predictions)\n",
    "\n",
    "print(\"\\nModel Evaluation:\")\n",
    "print(f\"Accuracy: {accuracy:.4f}\")\n",
    "print(f\"Precision: {precision:.4f}\")\n",
    "print(f\"Recall: {recall:.4f}\")\n",
    "print(f\"F1-Score: {f1:.4f}\")"
   ]
  },
  {
   "cell_type": "code",
   "execution_count": 6,
   "id": "0b9206bd",
   "metadata": {
    "execution": {
     "iopub.execute_input": "2025-08-12T16:43:06.797747Z",
     "iopub.status.busy": "2025-08-12T16:43:06.797526Z",
     "iopub.status.idle": "2025-08-12T16:43:06.854891Z",
     "shell.execute_reply": "2025-08-12T16:43:06.854246Z"
    },
    "papermill": {
     "duration": 0.061199,
     "end_time": "2025-08-12T16:43:06.855949",
     "exception": false,
     "start_time": "2025-08-12T16:43:06.794750",
     "status": "completed"
    },
    "tags": []
   },
   "outputs": [
    {
     "name": "stdout",
     "output_type": "stream",
     "text": [
      "Model and scaler saved successfully!\n"
     ]
    }
   ],
   "source": [
    "import joblib\n",
    "\n",
    "# Save the trained model and the scaler to disk\n",
    "joblib.dump(model, 'ids_model.pkl')\n",
    "joblib.dump(scaler, 'scaler.pkl')\n",
    "\n",
    "print(\"Model and scaler saved successfully!\")"
   ]
  },
  {
   "cell_type": "code",
   "execution_count": 7,
   "id": "e9762328",
   "metadata": {
    "execution": {
     "iopub.execute_input": "2025-08-12T16:43:06.862527Z",
     "iopub.status.busy": "2025-08-12T16:43:06.862018Z",
     "iopub.status.idle": "2025-08-12T16:43:06.867170Z",
     "shell.execute_reply": "2025-08-12T16:43:06.866350Z"
    },
    "papermill": {
     "duration": 0.008923,
     "end_time": "2025-08-12T16:43:06.868229",
     "exception": false,
     "start_time": "2025-08-12T16:43:06.859306",
     "status": "completed"
    },
    "tags": []
   },
   "outputs": [
    {
     "name": "stdout",
     "output_type": "stream",
     "text": [
      "Feature names the model was trained on:\n",
      "[' Destination Port' ' Flow Duration' ' Total Fwd Packets'\n",
      " ' Total Backward Packets' 'Total Length of Fwd Packets'\n",
      " ' Total Length of Bwd Packets' ' Fwd Packet Length Max'\n",
      " ' Fwd Packet Length Min' ' Fwd Packet Length Mean'\n",
      " ' Fwd Packet Length Std' 'Bwd Packet Length Max' ' Bwd Packet Length Min'\n",
      " ' Bwd Packet Length Mean' ' Bwd Packet Length Std' 'Flow Bytes/s'\n",
      " ' Flow Packets/s' ' Flow IAT Mean' ' Flow IAT Std' ' Flow IAT Max'\n",
      " ' Flow IAT Min' 'Fwd IAT Total' ' Fwd IAT Mean' ' Fwd IAT Std'\n",
      " ' Fwd IAT Max' ' Fwd IAT Min' 'Bwd IAT Total' ' Bwd IAT Mean'\n",
      " ' Bwd IAT Std' ' Bwd IAT Max' ' Bwd IAT Min' 'Fwd PSH Flags'\n",
      " ' Bwd PSH Flags' ' Fwd URG Flags' ' Bwd URG Flags' ' Fwd Header Length'\n",
      " ' Bwd Header Length' 'Fwd Packets/s' ' Bwd Packets/s'\n",
      " ' Min Packet Length' ' Max Packet Length' ' Packet Length Mean'\n",
      " ' Packet Length Std' ' Packet Length Variance' 'FIN Flag Count'\n",
      " ' SYN Flag Count' ' RST Flag Count' ' PSH Flag Count' ' ACK Flag Count'\n",
      " ' URG Flag Count' ' CWE Flag Count' ' ECE Flag Count' ' Down/Up Ratio'\n",
      " ' Average Packet Size' ' Avg Fwd Segment Size' ' Avg Bwd Segment Size'\n",
      " ' Fwd Header Length.1' 'Fwd Avg Bytes/Bulk' ' Fwd Avg Packets/Bulk'\n",
      " ' Fwd Avg Bulk Rate' ' Bwd Avg Bytes/Bulk' ' Bwd Avg Packets/Bulk'\n",
      " 'Bwd Avg Bulk Rate' 'Subflow Fwd Packets' ' Subflow Fwd Bytes'\n",
      " ' Subflow Bwd Packets' ' Subflow Bwd Bytes' 'Init_Win_bytes_forward'\n",
      " ' Init_Win_bytes_backward' ' act_data_pkt_fwd' ' min_seg_size_forward'\n",
      " 'Active Mean' ' Active Std' ' Active Max' ' Active Min' 'Idle Mean'\n",
      " ' Idle Std' ' Idle Max' ' Idle Min']\n"
     ]
    }
   ],
   "source": [
    "import joblib\n",
    "\n",
    "# Load the saved scaler\n",
    "loaded_scaler = joblib.load('scaler.pkl')\n",
    "\n",
    "# Get the list of feature names the model was trained on\n",
    "feature_names = loaded_scaler.feature_names_in_\n",
    "\n",
    "print(\"Feature names the model was trained on:\")\n",
    "print(feature_names)"
   ]
  },
  {
   "cell_type": "code",
   "execution_count": 8,
   "id": "043f669c",
   "metadata": {
    "execution": {
     "iopub.execute_input": "2025-08-12T16:43:06.873769Z",
     "iopub.status.busy": "2025-08-12T16:43:06.873574Z",
     "iopub.status.idle": "2025-08-12T16:43:07.043247Z",
     "shell.execute_reply": "2025-08-12T16:43:07.042412Z"
    },
    "papermill": {
     "duration": 0.173834,
     "end_time": "2025-08-12T16:43:07.044379",
     "exception": false,
     "start_time": "2025-08-12T16:43:06.870545",
     "status": "completed"
    },
    "tags": []
   },
   "outputs": [
    {
     "name": "stdout",
     "output_type": "stream",
     "text": [
      "\n",
      "Prediction: This traffic is likely BENIGN. ✅\n"
     ]
    }
   ],
   "source": [
    "import pandas as pd\n",
    "import joblib\n",
    "import numpy as np\n",
    "\n",
    "# Load the saved model and scaler\n",
    "loaded_model = joblib.load('ids_model.pkl')\n",
    "loaded_scaler = joblib.load('scaler.pkl')\n",
    "\n",
    "# Create a new, single piece of network traffic data as a dictionary\n",
    "# IMPORTANT: All feature names from your training data must be included.\n",
    "new_data_dict = {\n",
    "    ' Destination Port': [80], ' Flow Duration': [1000], ' Total Fwd Packets': [10],\n",
    "    ' Total Backward Packets': [5], 'Total Length of Fwd Packets': [500],\n",
    "    ' Total Length of Bwd Packets': [200], ' Fwd Packet Length Max': [100],\n",
    "    ' Fwd Packet Length Min': [50], ' Fwd Packet Length Mean': [75],\n",
    "    ' Fwd Packet Length Std': [10.5], 'Bwd Packet Length Max': [150], ' Bwd Packet Length Min': [30],\n",
    "    ' Bwd Packet Length Mean': [70], ' Bwd Packet Length Std': [20.1], 'Flow Bytes/s': [700],\n",
    "    ' Flow Packets/s': [15], ' Flow IAT Mean': [120], ' Flow IAT Std': [55], ' Flow IAT Max': [500],\n",
    "    ' Flow IAT Min': [10], 'Fwd IAT Total': [900], ' Fwd IAT Mean': [110], ' Fwd IAT Std': [45],\n",
    "    ' Fwd IAT Max': [450], ' Fwd IAT Min': [5], 'Bwd IAT Total': [850], ' Bwd IAT Mean': [100],\n",
    "    ' Bwd IAT Std': [40], ' Bwd IAT Max': [400], ' Bwd IAT Min': [8], 'Fwd PSH Flags': [0],\n",
    "    ' Bwd PSH Flags': [0], ' Fwd URG Flags': [0], ' Bwd URG Flags': [0], ' Fwd Header Length': [320],\n",
    "    ' Bwd Header Length': [160], 'Fwd Packets/s': [10], ' Bwd Packets/s': [5],\n",
    "    ' Min Packet Length': [30], ' Max Packet Length': [150], ' Packet Length Mean': [70],\n",
    "    ' Packet Length Std': [25], ' Packet Length Variance': [625], 'FIN Flag Count': [0],\n",
    "    ' SYN Flag Count': [1], ' RST Flag Count': [0], ' PSH Flag Count': [1], ' ACK Flag Count': [1],\n",
    "    ' URG Flag Count': [0], ' CWE Flag Count': [0], ' ECE Flag Count': [0], ' Down/Up Ratio': [0],\n",
    "    ' Average Packet Size': [75], ' Avg Fwd Segment Size': [75], ' Avg Bwd Segment Size': [70],\n",
    "    ' Fwd Header Length.1': [320], 'Fwd Avg Bytes/Bulk': [0], ' Fwd Avg Packets/Bulk': [0],\n",
    "    ' Fwd Avg Bulk Rate': [0], ' Bwd Avg Bytes/Bulk': [0], ' Bwd Avg Packets/Bulk': [0],\n",
    "    'Bwd Avg Bulk Rate': [0], 'Subflow Fwd Packets': [10], ' Subflow Fwd Bytes': [500],\n",
    "    ' Subflow Bwd Packets': [5], ' Subflow Bwd Bytes': [200], 'Init_Win_bytes_forward': [29200],\n",
    "    ' Init_Win_bytes_backward': [14600], ' act_data_pkt_fwd': [10], ' min_seg_size_forward': [20],\n",
    "    'Active Mean': [0], ' Active Std': [0], ' Active Max': [0], ' Active Min': [0], 'Idle Mean': [0],\n",
    "    ' Idle Std': [0], ' Idle Max': [0], ' Idle Min': [0]\n",
    "}\n",
    "new_df = pd.DataFrame(new_data_dict)\n",
    "\n",
    "# Scale the new data using the SAME scaler that was used for training\n",
    "scaled_new_data = loaded_scaler.transform(new_df)\n",
    "\n",
    "# Make a prediction\n",
    "prediction = loaded_model.predict(scaled_new_data)\n",
    "\n",
    "# Print the result\n",
    "if prediction[0] == 1:\n",
    "    print(\"\\nPrediction: This traffic is likely an ATTACK. 🚨\")\n",
    "else:\n",
    "    print(\"\\nPrediction: This traffic is likely BENIGN. ✅\")"
   ]
  }
 ],
 "metadata": {
  "kaggle": {
   "accelerator": "nvidiaTeslaT4",
   "dataSources": [
    {
     "datasetId": 8057027,
     "sourceId": 12745467,
     "sourceType": "datasetVersion"
    }
   ],
   "dockerImageVersionId": 31090,
   "isGpuEnabled": true,
   "isInternetEnabled": true,
   "language": "python",
   "sourceType": "notebook"
  },
  "kernelspec": {
   "display_name": "Python 3",
   "language": "python",
   "name": "python3"
  },
  "language_info": {
   "codemirror_mode": {
    "name": "ipython",
    "version": 3
   },
   "file_extension": ".py",
   "mimetype": "text/x-python",
   "name": "python",
   "nbconvert_exporter": "python",
   "pygments_lexer": "ipython3",
   "version": "3.11.13"
  },
  "papermill": {
   "default_parameters": {},
   "duration": 375.553429,
   "end_time": "2025-08-12T16:43:07.564881",
   "environment_variables": {},
   "exception": null,
   "input_path": "__notebook__.ipynb",
   "output_path": "__notebook__.ipynb",
   "parameters": {},
   "start_time": "2025-08-12T16:36:52.011452",
   "version": "2.6.0"
  }
 },
 "nbformat": 4,
 "nbformat_minor": 5
}
